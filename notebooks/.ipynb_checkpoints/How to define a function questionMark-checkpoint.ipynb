{
 "cells": [
  {
   "cell_type": "markdown",
   "id": "9c915333-1372-491a-956f-662696e43132",
   "metadata": {},
   "source": [
    "# How to define a function?"
   ]
  },
  {
   "cell_type": "markdown",
   "id": "55817ce5-8a83-4371-b86c-5c99028e5930",
   "metadata": {},
   "source": [
    "### you need to type 'def' and then name of your function as a single word. Then parentheses (Between parentheses you can define an argument)"
   ]
  },
  {
   "cell_type": "markdown",
   "id": "7f5c9ab8-e997-4c78-ad48-d926e29959bf",
   "metadata": {},
   "source": [
    "## For example\n",
    "\n",
    "def my_function(argument):\n",
    "    \n",
    "    print(argument)"
   ]
  },
  {
   "cell_type": "code",
   "execution_count": 1,
   "id": "ee0c203b-2539-44e7-83f4-7f1b86279c5d",
   "metadata": {},
   "outputs": [],
   "source": [
    "def my_function(argument):\n",
    "    print(argument)"
   ]
  },
  {
   "cell_type": "markdown",
   "id": "663ec464-1d3b-4609-a9d1-5fa0d93ea0d4",
   "metadata": {},
   "source": [
    "### Then you can execute your function by typing my_function('some_string')"
   ]
  },
  {
   "cell_type": "code",
   "execution_count": 2,
   "id": "9e7af556-38f3-4986-b7e6-c6c3680a2822",
   "metadata": {},
   "outputs": [
    {
     "name": "stdout",
     "output_type": "stream",
     "text": [
      "some_string\n"
     ]
    }
   ],
   "source": [
    "my_function('some_string')"
   ]
  },
  {
   "cell_type": "code",
   "execution_count": null,
   "id": "8467c630-d29f-4214-9f45-e83144faebc6",
   "metadata": {},
   "outputs": [],
   "source": []
  }
 ],
 "metadata": {
  "kernelspec": {
   "display_name": "Python 3 (ipykernel)",
   "language": "python",
   "name": "python3"
  },
  "language_info": {
   "codemirror_mode": {
    "name": "ipython",
    "version": 3
   },
   "file_extension": ".py",
   "mimetype": "text/x-python",
   "name": "python",
   "nbconvert_exporter": "python",
   "pygments_lexer": "ipython3",
   "version": "3.12.3"
  }
 },
 "nbformat": 4,
 "nbformat_minor": 5
}
